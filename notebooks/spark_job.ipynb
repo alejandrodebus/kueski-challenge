{
 "cells": [
  {
   "cell_type": "code",
   "execution_count": 1,
   "id": "16c86494",
   "metadata": {},
   "outputs": [],
   "source": [
    "import logging\n",
    "import socket\n",
    "from pyspark.sql import SparkSession\n",
    "from pyspark.sql import Window\n",
    "from pyspark.sql import functions as F\n",
    "from pyspark.sql.types import IntegerType, FloatType, TimestampType, StructType, StructField"
   ]
  },
  {
   "cell_type": "code",
   "execution_count": 2,
   "id": "2aac4785-0e8c-4966-9630-a4568a99c31c",
   "metadata": {},
   "outputs": [],
   "source": [
    "minio_socket = socket.gethostbyname('minio')\n",
    "\n",
    "\n",
    "IN_PATH_RAW_DATA = 's3a://kueski-store/raws/rating.csv'\n",
    "OUT_PATH_FEATURES_ALL_ROWS = 's3a://kueski-store/features/allrows/'\n",
    "OUT_PATH_FEATURES_ONLINE_STORE = 's3a://kueski-store/features/onlinestore/'"
   ]
  },
  {
   "cell_type": "code",
   "execution_count": 3,
   "id": "c477f287",
   "metadata": {
    "scrolled": true,
    "tags": []
   },
   "outputs": [
    {
     "name": "stderr",
     "output_type": "stream",
     "text": [
      "WARNING: An illegal reflective access operation has occurred\n",
      "WARNING: Illegal reflective access by org.apache.spark.unsafe.Platform (file:/usr/local/spark-3.1.2-bin-hadoop3.2/jars/spark-unsafe_2.12-3.1.2.jar) to constructor java.nio.DirectByteBuffer(long,int)\n",
      "WARNING: Please consider reporting this to the maintainers of org.apache.spark.unsafe.Platform\n",
      "WARNING: Use --illegal-access=warn to enable warnings of further illegal reflective access operations\n",
      "WARNING: All illegal access operations will be denied in a future release\n",
      "21/07/08 02:04:47 WARN NativeCodeLoader: Unable to load native-hadoop library for your platform... using builtin-java classes where applicable\n",
      "Using Spark's default log4j profile: org/apache/spark/log4j-defaults.properties\n",
      "Setting default log level to \"WARN\".\n",
      "To adjust logging level use sc.setLogLevel(newLevel). For SparkR, use setLogLevel(newLevel).\n"
     ]
    }
   ],
   "source": [
    "spark = SparkSession \\\n",
    "    .builder \\\n",
    "    .appName(\"kueski_challenge\") \\\n",
    "    .config('spark.hadoop.fs.s3a.endpoint', 'http://'+minio_socket+':9000') \\\n",
    "    .config(\"spark.hadoop.fs.s3a.access.key\", \"kueski\") \\\n",
    "    .config(\"spark.hadoop.fs.s3a.secret.key\", \"kueski123\") \\\n",
    "    .config(\"spark.hadoop.fs.s3a.path.style.access\", True) \\\n",
    "    .config('spark.hadoop.fs.s3a.impl', 'org.apache.hadoop.fs.s3a.S3AFileSystem') \\\n",
    "    .getOrCreate()"
   ]
  },
  {
   "cell_type": "code",
   "execution_count": 4,
   "id": "c7601f66",
   "metadata": {},
   "outputs": [],
   "source": [
    "custom_schema = StructType(\n",
    "    [StructField('userId', IntegerType(), True),\n",
    "    StructField('movieId', IntegerType(), True),\n",
    "    StructField('rating', FloatType(), True),\n",
    "    StructField('timestamp', TimestampType(), True)]\n",
    ")"
   ]
  },
  {
   "cell_type": "code",
   "execution_count": 5,
   "id": "1a56846e",
   "metadata": {},
   "outputs": [
    {
     "name": "stderr",
     "output_type": "stream",
     "text": [
      "21/07/08 02:04:56 WARN MetricsConfig: Cannot locate configuration: tried hadoop-metrics2-s3a-file-system.properties,hadoop-metrics2.properties\n",
      "21/07/08 02:04:58 WARN ApacheUtils: NoSuchMethodException was thrown when disabling normalizeUri. This indicates you are using an old version (< 4.5.8) of Apache http client. It is recommended to use http client version >= 4.5.9 to avoid the breaking change introduced in apache client 4.5.7 and the latency in exception handling. See https://github.com/aws/aws-sdk-java/issues/1919 for more information\n"
     ]
    }
   ],
   "source": [
    "df = spark.read.csv(IN_PATH_RAW_DATA, header=True, schema=custom_schema)"
   ]
  },
  {
   "cell_type": "code",
   "execution_count": 6,
   "id": "92877614",
   "metadata": {},
   "outputs": [
    {
     "name": "stdout",
     "output_type": "stream",
     "text": [
      "root\n",
      " |-- userId: integer (nullable = true)\n",
      " |-- movieId: integer (nullable = true)\n",
      " |-- rating: float (nullable = true)\n",
      " |-- timestamp: timestamp (nullable = true)\n",
      "\n"
     ]
    }
   ],
   "source": [
    "df.printSchema()"
   ]
  },
  {
   "cell_type": "code",
   "execution_count": 7,
   "id": "5d7f14ba",
   "metadata": {
    "scrolled": true
   },
   "outputs": [
    {
     "name": "stderr",
     "output_type": "stream",
     "text": [
      "[Stage 0:>                                                          (0 + 1) / 1]\r"
     ]
    },
    {
     "name": "stdout",
     "output_type": "stream",
     "text": [
      "+------+-------+------+-------------------+\n",
      "|userId|movieId|rating|          timestamp|\n",
      "+------+-------+------+-------------------+\n",
      "|     1|      2|   3.5|2005-04-02 23:53:47|\n",
      "|     1|     29|   3.5|2005-04-02 23:31:16|\n",
      "|     1|     32|   3.5|2005-04-02 23:33:39|\n",
      "+------+-------+------+-------------------+\n",
      "only showing top 3 rows\n",
      "\n"
     ]
    },
    {
     "name": "stderr",
     "output_type": "stream",
     "text": [
      "                                                                                \r"
     ]
    }
   ],
   "source": [
    "df.show(3)"
   ]
  },
  {
   "cell_type": "code",
   "execution_count": 8,
   "id": "2cf12881",
   "metadata": {},
   "outputs": [
    {
     "name": "stderr",
     "output_type": "stream",
     "text": [
      "                                                                                \r"
     ]
    },
    {
     "name": "stdout",
     "output_type": "stream",
     "text": [
      "+------+-------+------+-------------------+-------------------+--------------------+\n",
      "|userId|movieId|rating|          timestamp|nb_previous_ratings|avg_ratings_previous|\n",
      "+------+-------+------+-------------------+-------------------+--------------------+\n",
      "|     1|    924|   3.5|2004-09-10 03:06:38|                  0|                null|\n",
      "|     1|    919|   3.5|2004-09-10 03:07:01|                  1|                 3.5|\n",
      "|     1|   2683|   3.5|2004-09-10 03:07:30|                  2|                 3.5|\n",
      "|     1|   1584|   3.5|2004-09-10 03:07:36|                  3|                 3.5|\n",
      "|     1|   1079|   4.0|2004-09-10 03:07:45|                  4|                 3.5|\n",
      "|     1|    653|   3.0|2004-09-10 03:08:11|                  5|                 3.6|\n",
      "|     1|   2959|   4.0|2004-09-10 03:08:18|                  6|                 3.5|\n",
      "|     1|    337|   3.5|2004-09-10 03:08:29|                  7|  3.5714285714285716|\n",
      "|     1|   1304|   3.0|2004-09-10 03:08:40|                  8|              3.5625|\n",
      "|     1|   3996|   4.0|2004-09-10 03:08:47|                  9|                 3.5|\n",
      "+------+-------+------+-------------------+-------------------+--------------------+\n",
      "only showing top 10 rows\n",
      "\n"
     ]
    }
   ],
   "source": [
    "window_def = (Window.partitionBy('userId').orderBy('timestamp'))\n",
    "\n",
    "df_calc = df.withColumn(\n",
    "    'nb_previous_ratings', \n",
    "    F.row_number().over(window_def)-1\n",
    ").withColumn(\n",
    "    'avg_ratings_previous', \n",
    "    F.avg(F.lag(df.rating).over(window_def)).over(window_def)\n",
    ")\n",
    "df_calc.filter(df_calc.userId==1).show(10)"
   ]
  },
  {
   "cell_type": "code",
   "execution_count": 9,
   "id": "3bd0d516-7450-4e69-805e-41d76da9499b",
   "metadata": {
    "collapsed": true,
    "jupyter": {
     "outputs_hidden": true
    },
    "tags": []
   },
   "outputs": [
    {
     "name": "stderr",
     "output_type": "stream",
     "text": [
      "                                                                                \r"
     ]
    }
   ],
   "source": [
    "df_calc.write.mode(\"overwrite\").parquet(OUT_PATH_FEATURES_ALL_ROWS)"
   ]
  },
  {
   "cell_type": "code",
   "execution_count": 10,
   "id": "569d65d9",
   "metadata": {},
   "outputs": [],
   "source": [
    "# filter value to online store\n",
    "w = Window.partitionBy('userId')\n",
    "df_calc = df_calc.select(\n",
    "    'userId',\n",
    "    'nb_previous_ratings',\n",
    "    'avg_ratings_previous'\n",
    ").withColumn('max_nb_previous_ratings', F.max('nb_previous_ratings').over(w))\\\n",
    "    .where(F.col('nb_previous_ratings') == F.col('max_nb_previous_ratings'))\\\n",
    "    .drop('max_nb_previous_ratings')"
   ]
  },
  {
   "cell_type": "code",
   "execution_count": 11,
   "id": "a33d2eba-ef9f-45aa-ba35-c3da952c545f",
   "metadata": {},
   "outputs": [
    {
     "name": "stderr",
     "output_type": "stream",
     "text": [
      "[Stage 11:================================================>         (5 + 1) / 6]\r"
     ]
    },
    {
     "name": "stdout",
     "output_type": "stream",
     "text": [
      "+------+-------------------+--------------------+\n",
      "|userId|nb_previous_ratings|avg_ratings_previous|\n",
      "+------+-------------------+--------------------+\n",
      "|   148|                127|   3.590551181102362|\n",
      "|   463|                 79|  3.8987341772151898|\n",
      "+------+-------------------+--------------------+\n",
      "only showing top 2 rows\n",
      "\n"
     ]
    },
    {
     "name": "stderr",
     "output_type": "stream",
     "text": [
      "                                                                                \r"
     ]
    }
   ],
   "source": [
    "df_calc.show(2)"
   ]
  },
  {
   "cell_type": "code",
   "execution_count": 12,
   "id": "331c35b9",
   "metadata": {
    "collapsed": true,
    "jupyter": {
     "outputs_hidden": true
    },
    "tags": []
   },
   "outputs": [
    {
     "name": "stderr",
     "output_type": "stream",
     "text": [
      "21/07/08 02:31:57 WARN S3AInstrumentation: Closing output stream statistics while data is still marked as pending upload in OutputStreamStatistics{blocksSubmitted=1, blocksInQueue=1, blocksActive=0, blockUploadsCompleted=0, blockUploadsFailed=0, bytesPendingUpload=0, bytesUploaded=9826, blocksAllocated=1, blocksReleased=1, blocksActivelyAllocated=0, exceptionsInMultipartFinalize=0, transferDuration=0 ms, queueDuration=0 ms, averageQueueTime=0 ms, totalUploadDuration=0 ms, effectiveBandwidth=0.0 bytes/s}\n",
      "                                                                                \r"
     ]
    }
   ],
   "source": [
    "df_calc.write.mode(\"overwrite\").parquet(OUT_PATH_FEATURES_ONLINE_STORE)"
   ]
  }
 ],
 "metadata": {
  "kernelspec": {
   "display_name": "Python 3 (ipykernel)",
   "language": "python",
   "name": "python3"
  },
  "language_info": {
   "codemirror_mode": {
    "name": "ipython",
    "version": 3
   },
   "file_extension": ".py",
   "mimetype": "text/x-python",
   "name": "python",
   "nbconvert_exporter": "python",
   "pygments_lexer": "ipython3",
   "version": "3.9.5"
  }
 },
 "nbformat": 4,
 "nbformat_minor": 5
}
